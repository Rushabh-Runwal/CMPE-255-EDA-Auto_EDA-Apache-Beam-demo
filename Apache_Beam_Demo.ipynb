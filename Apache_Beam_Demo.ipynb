{
  "nbformat": 4,
  "nbformat_minor": 0,
  "metadata": {
    "colab": {
      "provenance": []
    },
    "kernelspec": {
      "name": "python3",
      "display_name": "Python 3"
    },
    "language_info": {
      "name": "python"
    }
  },
  "cells": [
    {
      "cell_type": "markdown",
      "source": [
        "#Step 1: Set Up the Colab Environment"
      ],
      "metadata": {
        "id": "c2fY7cLfYz8T"
      }
    },
    {
      "cell_type": "code",
      "execution_count": 9,
      "metadata": {
        "colab": {
          "base_uri": "https://localhost:8080/"
        },
        "collapsed": true,
        "id": "i_9iess6Yao3",
        "outputId": "0cecaa16-6d27-4800-9697-07557374cc83"
      },
      "outputs": [
        {
          "output_type": "stream",
          "name": "stdout",
          "text": [
            "\u001b[2K     \u001b[90m━━━━━━━━━━━━━━━━━━━━━━━━━━━━━━━━━━━━━━━━\u001b[0m \u001b[32m74.7/74.7 kB\u001b[0m \u001b[31m1.6 MB/s\u001b[0m eta \u001b[36m0:00:00\u001b[0m\n",
            "\u001b[2K   \u001b[90m━━━━━━━━━━━━━━━━━━━━━━━━━━━━━━━━━━━━━━━━\u001b[0m \u001b[32m246.5/246.5 kB\u001b[0m \u001b[31m4.4 MB/s\u001b[0m eta \u001b[36m0:00:00\u001b[0m\n",
            "\u001b[2K   \u001b[90m━━━━━━━━━━━━━━━━━━━━━━━━━━━━━━━━━━━━━━━━\u001b[0m \u001b[32m54.5/54.5 kB\u001b[0m \u001b[31m4.0 MB/s\u001b[0m eta \u001b[36m0:00:00\u001b[0m\n",
            "\u001b[2K   \u001b[90m━━━━━━━━━━━━━━━━━━━━━━━━━━━━━━━━━━━━━━━━\u001b[0m \u001b[32m45.0/45.0 kB\u001b[0m \u001b[31m2.9 MB/s\u001b[0m eta \u001b[36m0:00:00\u001b[0m\n",
            "\u001b[2K   \u001b[90m━━━━━━━━━━━━━━━━━━━━━━━━━━━━━━━━━━━━━━━━\u001b[0m \u001b[32m1.6/1.6 MB\u001b[0m \u001b[31m14.3 MB/s\u001b[0m eta \u001b[36m0:00:00\u001b[0m\n",
            "\u001b[2K   \u001b[90m━━━━━━━━━━━━━━━━━━━━━━━━━━━━━━━━━━━━━━━━\u001b[0m \u001b[32m93.1/93.1 kB\u001b[0m \u001b[31m7.2 MB/s\u001b[0m eta \u001b[36m0:00:00\u001b[0m\n",
            "\u001b[2K   \u001b[90m━━━━━━━━━━━━━━━━━━━━━━━━━━━━━━━━━━━━━━━━\u001b[0m \u001b[32m105.0/105.0 kB\u001b[0m \u001b[31m4.3 MB/s\u001b[0m eta \u001b[36m0:00:00\u001b[0m\n",
            "\u001b[?25h\u001b[31mERROR: pip's dependency resolver does not currently take into account all the packages that are installed. This behaviour is the source of the following dependency conflicts.\n",
            "ipython-sql 0.5.0 requires sqlalchemy>=2.0, but you have sqlalchemy 1.4.54 which is incompatible.\u001b[0m\u001b[31m\n",
            "\u001b[0m"
          ]
        }
      ],
      "source": [
        "!pip install apache-beam[gcp] beam-nuggets --quiet"
      ]
    },
    {
      "cell_type": "code",
      "source": [
        "!pip install transformers --quiet"
      ],
      "metadata": {
        "id": "Tvqj_MzwGD--"
      },
      "execution_count": 2,
      "outputs": []
    },
    {
      "cell_type": "markdown",
      "source": [
        "# Step 2: Creating a Basic Pipeline"
      ],
      "metadata": {
        "id": "-EJjp4rIoi0c"
      }
    },
    {
      "cell_type": "code",
      "source": [
        "import apache_beam as beam\n",
        "from apache_beam.options.pipeline_options import PipelineOptions"
      ],
      "metadata": {
        "id": "hog1Dyp5Yrc4"
      },
      "execution_count": 3,
      "outputs": []
    },
    {
      "cell_type": "code",
      "source": [
        "import apache_beam as beam\n",
        "\n",
        "# Sample dataset of e-commerce transactions\n",
        "sample_data = [\n",
        "    {'transaction_id': 'T1001', 'product': 'Laptop', 'quantity': 1, 'price': 1000},\n",
        "    {'transaction_id': 'T1002', 'product': 'Phone', 'quantity': 2, 'price': 500},\n",
        "    {'transaction_id': 'T1003', 'product': 'Monitor', 'quantity': 3, 'price': 150},\n",
        "    {'transaction_id': 'T1004', 'product': 'Keyboard', 'quantity': 5, 'price': 30},\n",
        "    {'transaction_id': 'T1005', 'product': 'Mouse', 'quantity': 10, 'price': 20}\n",
        "]\n",
        "\n",
        "# Function to calculate the total cost of each transaction\n",
        "def calculate_total_cost(transaction):\n",
        "    total_cost = transaction['quantity'] * transaction['price']\n",
        "    transaction['total_cost'] = total_cost\n",
        "    return transaction\n",
        "\n",
        "# Define the pipeline\n",
        "with beam.Pipeline() as pipeline:\n",
        "\n",
        "    # Step 1: Create a PCollection from the sample data\n",
        "    transactions = pipeline | 'Create transactions' >> beam.Create(sample_data)\n",
        "\n",
        "    # Step 2: Apply a ParDo to calculate the total cost for each transaction\n",
        "    total_costs = transactions | 'Calculate total cost' >> beam.Map(calculate_total_cost)\n",
        "\n",
        "    # Step 3: Print the results (transactions with total cost)\n",
        "    total_costs | 'Print results' >> beam.Map(print)\n"
      ],
      "metadata": {
        "colab": {
          "base_uri": "https://localhost:8080/"
        },
        "id": "CvJV264Ookpr",
        "outputId": "73e0611f-faae-4bee-f650-2f678902c617"
      },
      "execution_count": 11,
      "outputs": [
        {
          "output_type": "stream",
          "name": "stdout",
          "text": [
            "{'transaction_id': 'T1001', 'product': 'Laptop', 'quantity': 1, 'price': 1000, 'total_cost': 1000}\n",
            "{'transaction_id': 'T1002', 'product': 'Phone', 'quantity': 2, 'price': 500, 'total_cost': 1000}\n",
            "{'transaction_id': 'T1003', 'product': 'Monitor', 'quantity': 3, 'price': 150, 'total_cost': 450}\n",
            "{'transaction_id': 'T1004', 'product': 'Keyboard', 'quantity': 5, 'price': 30, 'total_cost': 150}\n",
            "{'transaction_id': 'T1005', 'product': 'Mouse', 'quantity': 10, 'price': 20, 'total_cost': 200}\n"
          ]
        }
      ]
    },
    {
      "cell_type": "markdown",
      "source": [
        "# Step 3: Adding Windowing and Triggers\n",
        "Windowing allows us to divide the data into logical chunks (windows) based on time. Triggers define when the results for each window should be emitted.\n",
        "\n",
        "In this step, we’ll simulate streaming e-commerce transactions over time and use windowing to group transactions into 1-minute intervals."
      ],
      "metadata": {
        "id": "N3iSaPRqnVra"
      }
    },
    {
      "cell_type": "code",
      "source": [
        "import apache_beam as beam\n",
        "from apache_beam.transforms.window import FixedWindows\n",
        "from apache_beam.transforms.trigger import AfterWatermark, AccumulationMode\n",
        "import time\n",
        "\n",
        "# Simulated streaming data with timestamps\n",
        "sample_streaming_data = [\n",
        "    {'transaction_id': 'T1001', 'product': 'Laptop', 'quantity': 1, 'price': 1000, 'timestamp': 1},\n",
        "    {'transaction_id': 'T1002', 'product': 'Phone', 'quantity': 2, 'price': 500, 'timestamp': 2},\n",
        "    {'transaction_id': 'T1003', 'product': 'Monitor', 'quantity': 3, 'price': 150, 'timestamp': 61},\n",
        "    {'transaction_id': 'T1004', 'product': 'Keyboard', 'quantity': 5, 'price': 30, 'timestamp': 62},\n",
        "    {'transaction_id': 'T1005', 'product': 'Mouse', 'quantity': 10, 'price': 20, 'timestamp': 120}\n",
        "]\n",
        "\n",
        "# Function to calculate the total cost\n",
        "def calculate_total_cost(transaction):\n",
        "    total_cost = transaction['quantity'] * transaction['price']\n",
        "    transaction['total_cost'] = total_cost\n",
        "    return transaction\n",
        "\n",
        "# Simulate event-time using Beam's timestamp\n",
        "class AddTimestamp(beam.DoFn):\n",
        "    def process(self, element):\n",
        "        yield beam.window.TimestampedValue(element, element['timestamp'])\n",
        "\n",
        "# Define the pipeline\n",
        "with beam.Pipeline() as pipeline:\n",
        "\n",
        "    # Step 1: Create a PCollection from the streaming data and add timestamps\n",
        "    transactions = (pipeline\n",
        "                    | 'Create streaming transactions' >> beam.Create(sample_streaming_data)\n",
        "                    | 'Add timestamps' >> beam.ParDo(AddTimestamp()))\n",
        "\n",
        "    # Step 2: Apply windowing to group transactions into 1-minute windows\n",
        "    windowed_transactions = (transactions\n",
        "                             | 'Apply windowing' >> beam.WindowInto(\n",
        "                                 FixedWindows(60),\n",
        "                                 trigger=AfterWatermark(),  # Trigger on watermark\n",
        "                                 accumulation_mode=AccumulationMode.DISCARDING))\n",
        "\n",
        "    # Step 3: Calculate total cost for each transaction\n",
        "    total_costs = windowed_transactions | 'Calculate total cost' >> beam.Map(calculate_total_cost)\n",
        "\n",
        "    # Step 4: Print the results for each window\n",
        "    total_costs | 'Print results' >> beam.Map(print)\n"
      ],
      "metadata": {
        "colab": {
          "base_uri": "https://localhost:8080/"
        },
        "id": "-SkPkcQ2pL0c",
        "outputId": "be730628-b331-46ed-d97b-ef65a626f86f"
      },
      "execution_count": 12,
      "outputs": [
        {
          "output_type": "stream",
          "name": "stdout",
          "text": [
            "{'transaction_id': 'T1001', 'product': 'Laptop', 'quantity': 1, 'price': 1000, 'timestamp': 1, 'total_cost': 1000}\n",
            "{'transaction_id': 'T1002', 'product': 'Phone', 'quantity': 2, 'price': 500, 'timestamp': 2, 'total_cost': 1000}\n",
            "{'transaction_id': 'T1003', 'product': 'Monitor', 'quantity': 3, 'price': 150, 'timestamp': 61, 'total_cost': 450}\n",
            "{'transaction_id': 'T1004', 'product': 'Keyboard', 'quantity': 5, 'price': 30, 'timestamp': 62, 'total_cost': 150}\n",
            "{'transaction_id': 'T1005', 'product': 'Mouse', 'quantity': 10, 'price': 20, 'timestamp': 120, 'total_cost': 200}\n"
          ]
        }
      ]
    },
    {
      "cell_type": "markdown",
      "source": [
        "#Step 4: Using ParDo for Complex Processing\n",
        "ParDo is one of Apache Beam’s most powerful transforms. It allows you to perform more complex processing on each element in a PCollection, especially when you need to work with side outputs, handle multiple data fields, or perform multi-step processing."
      ],
      "metadata": {
        "id": "o9FfLILVrhpj"
      }
    },
    {
      "cell_type": "code",
      "source": [
        "import apache_beam as beam\n",
        "\n",
        "# Function to calculate total cost and discounted price, and separate high/low value transactions\n",
        "class ProcessTransaction(beam.DoFn):\n",
        "    def process(self, transaction):\n",
        "        # Calculate total cost\n",
        "        transaction['total_cost'] = transaction['quantity'] * transaction['price']\n",
        "\n",
        "        # Apply a discount of 10% if the total cost is greater than $500\n",
        "        if transaction['total_cost'] > 500:\n",
        "            transaction['discounted_price'] = transaction['total_cost'] * 0.9\n",
        "        else:\n",
        "            transaction['discounted_price'] = transaction['total_cost']\n",
        "\n",
        "        # Categorize into high-value and low-value transactions\n",
        "        if transaction['total_cost'] > 1000:\n",
        "            yield beam.pvalue.TaggedOutput('high_value', transaction)  # Side output: high-value\n",
        "        else:\n",
        "            yield beam.pvalue.TaggedOutput('low_value', transaction)   # Side output: low-value\n",
        "\n",
        "# Define the pipeline\n",
        "with beam.Pipeline() as pipeline:\n",
        "\n",
        "    # Step 1: Create a PCollection from the sample data\n",
        "    sample_data = [\n",
        "        {'transaction_id': 'T1001', 'product': 'Laptop', 'quantity': 1, 'price': 1000},\n",
        "        {'transaction_id': 'T1002', 'product': 'Phone', 'quantity': 2, 'price': 500},\n",
        "        {'transaction_id': 'T1003', 'product': 'Monitor', 'quantity': 3, 'price': 150},\n",
        "        {'transaction_id': 'T1004', 'product': 'Keyboard', 'quantity': 5, 'price': 30},\n",
        "        {'transaction_id': 'T1005', 'product': 'Mouse', 'quantity': 10, 'price': 20}\n",
        "    ]\n",
        "\n",
        "    transactions = pipeline | 'Create transactions' >> beam.Create(sample_data)\n",
        "\n",
        "    # Step 2: Apply ParDo to process transactions\n",
        "    processed_transactions = (transactions\n",
        "                              | 'Process Transactions' >> beam.ParDo(ProcessTransaction())\n",
        "                              .with_outputs('high_value', 'low_value'))\n",
        "\n",
        "    # Step 3: Print high-value transactions\n",
        "    high_value_transactions = processed_transactions.high_value\n",
        "    high_value_transactions | 'Print high-value transactions' >> beam.Map(print)\n",
        "\n",
        "    # Step 4: Print low-value transactions\n",
        "    low_value_transactions = processed_transactions.low_value\n",
        "    low_value_transactions | 'Print low-value transactions' >> beam.Map(print)\n"
      ],
      "metadata": {
        "colab": {
          "base_uri": "https://localhost:8080/"
        },
        "id": "sTMQuf2-pMN5",
        "outputId": "005d0e9f-adc3-4d53-fa8d-7b297cc227de"
      },
      "execution_count": 13,
      "outputs": [
        {
          "output_type": "stream",
          "name": "stdout",
          "text": [
            "{'transaction_id': 'T1001', 'product': 'Laptop', 'quantity': 1, 'price': 1000, 'total_cost': 1000, 'discounted_price': 900.0}\n",
            "{'transaction_id': 'T1002', 'product': 'Phone', 'quantity': 2, 'price': 500, 'total_cost': 1000, 'discounted_price': 900.0}\n",
            "{'transaction_id': 'T1003', 'product': 'Monitor', 'quantity': 3, 'price': 150, 'total_cost': 450, 'discounted_price': 450}\n",
            "{'transaction_id': 'T1004', 'product': 'Keyboard', 'quantity': 5, 'price': 30, 'total_cost': 150, 'discounted_price': 150}\n",
            "{'transaction_id': 'T1005', 'product': 'Mouse', 'quantity': 10, 'price': 20, 'total_cost': 200, 'discounted_price': 200}\n"
          ]
        }
      ]
    },
    {
      "cell_type": "markdown",
      "source": [
        "# Step 5: Working with Streaming Data\n",
        "Since we’re in Colab and can’t directly stream real-time data like a production environment, we will simulate streaming by:\n",
        "\n",
        "Using a generator to produce new transactions at fixed intervals (mimicking a stream).\n",
        "Processing the transactions as they arrive in real time.\n"
      ],
      "metadata": {
        "id": "c__PPlZjtKLX"
      }
    },
    {
      "source": [
        "import apache_beam as beam\n",
        "import time\n",
        "\n",
        "# Predefined transaction data\n",
        "sample_data = [\n",
        "    {'transaction_id': 'T1001', 'product': 'Laptop', 'quantity': 1, 'price': 1000},\n",
        "    {'transaction_id': 'T1002', 'product': 'Phone', 'quantity': 2, 'price': 500},\n",
        "    {'transaction_id': 'T1003', 'product': 'Monitor', 'quantity': 3, 'price': 150},\n",
        "    {'transaction_id': 'T1004', 'product': 'Keyboard', 'quantity': 5, 'price': 30},\n",
        "    {'transaction_id': 'T1005', 'product': 'Mouse', 'quantity': 10, 'price': 20}\n",
        "]\n",
        "\n",
        "# Function to calculate total cost and discounted price\n",
        "class ProcessTransaction(beam.DoFn):\n",
        "    def process(self, transaction):\n",
        "        transaction['total_cost'] = transaction['quantity'] * transaction['price']\n",
        "\n",
        "        # Apply a discount of 10% if the total cost is greater than $500\n",
        "        if transaction['total_cost'] > 500:\n",
        "            transaction['discounted_price'] = transaction['total_cost'] * 0.9\n",
        "        else:\n",
        "            transaction['discounted_price'] = transaction['total_cost']\n",
        "\n",
        "        # Categorize into high-value and low-value transactions\n",
        "        if transaction['total_cost'] > 1000:\n",
        "            yield beam.pvalue.TaggedOutput('high_value', transaction)\n",
        "        else:\n",
        "            yield beam.pvalue.TaggedOutput('low_value', transaction)\n",
        "\n",
        "# Define the pipeline\n",
        "def run_pipeline():\n",
        "    with beam.Pipeline() as pipeline:\n",
        "\n",
        "        # Step 1: Process each transaction one at a time with a delay to simulate streaming\n",
        "        for idx, transaction in enumerate(sample_data):\n",
        "            time.sleep(2)  # Simulate a delay between transaction arrivals\n",
        "\n",
        "            # Unique label for each transaction\n",
        "            transaction_label = f'CreateTransaction_{idx}'\n",
        "\n",
        "            # Create a PCollection for the current transaction\n",
        "            transactions = pipeline | transaction_label >> beam.Create([transaction])\n",
        "\n",
        "            # Step 2: Apply ParDo with a unique label for processing each transaction\n",
        "            processed_transactions = (transactions\n",
        "                                      | f'ProcessTransaction_{idx}' >> beam.ParDo(ProcessTransaction())\n",
        "                                      .with_outputs('high_value', 'low_value'))\n",
        "\n",
        "            # Step 3: Print high-value transactions with a unique label\n",
        "            high_value_label = f'PrintHighValue_{idx}'\n",
        "            high_value_transactions = processed_transactions.high_value\n",
        "            high_value_transactions | high_value_label >> beam.Map(print)\n",
        "\n",
        "            # Step 4: Print low-value transactions with a unique label\n",
        "            low_value_label = f'PrintLowValue_{idx}'\n",
        "            low_value_transactions = processed_transactions.low_value\n",
        "            low_value_transactions | low_value_label >> beam.Map(print)\n",
        "\n",
        "# Run the simulated streaming pipeline\n",
        "run_pipeline()\n"
      ],
      "cell_type": "code",
      "metadata": {
        "colab": {
          "base_uri": "https://localhost:8080/"
        },
        "id": "6TQaXuiwuT7o",
        "outputId": "00c946d4-d9ab-4562-b4dc-02382d11a8c2"
      },
      "execution_count": 19,
      "outputs": [
        {
          "output_type": "stream",
          "name": "stdout",
          "text": [
            "{'transaction_id': 'T1005', 'product': 'Mouse', 'quantity': 10, 'price': 20, 'total_cost': 200, 'discounted_price': 200}\n",
            "{'transaction_id': 'T1001', 'product': 'Laptop', 'quantity': 1, 'price': 1000, 'total_cost': 1000, 'discounted_price': 900.0}\n",
            "{'transaction_id': 'T1002', 'product': 'Phone', 'quantity': 2, 'price': 500, 'total_cost': 1000, 'discounted_price': 900.0}\n",
            "{'transaction_id': 'T1004', 'product': 'Keyboard', 'quantity': 5, 'price': 30, 'total_cost': 150, 'discounted_price': 150}\n",
            "{'transaction_id': 'T1003', 'product': 'Monitor', 'quantity': 3, 'price': 150, 'total_cost': 450, 'discounted_price': 450}\n"
          ]
        }
      ]
    },
    {
      "cell_type": "markdown",
      "source": [
        "# Step 6: Integrating BeamML for Machine Learning Tasks\n",
        "\n",
        "BeamML allows us to use machine learning models and libraries in Apache Beam pipelines. We can run inference, apply pre-trained models, or even train models. In this step, we will focus on using a pre-trained machine learning model to classify transactions in real-time based on the amount (whether it's high, medium, or low).\n",
        "\n",
        "1. Choosing a Simple Pre-trained Model\n",
        "For simplicity, let’s use TensorFlow and a pre-trained model to classify the transaction amounts as either high, medium, or low based on the total_cost of each transaction.\n",
        "\n",
        "We'll use a pre-trained decision tree or logistic regression model stored in TensorFlow's SavedModel format. If you don't have a pre-trained model on hand, we can simulate the behavior with a custom function for classification.\n",
        "\n",
        "2. Step-by-Step Implementation\n",
        "Transaction Classification: We will classify the total_cost of each transaction into three categories: high, medium, and low.\n",
        "BeamML Integration: We'll integrate the machine learning model within the Apache Beam pipeline to perform inference on each transaction."
      ],
      "metadata": {
        "id": "62yPCw9yumzc"
      }
    },
    {
      "cell_type": "code",
      "source": [
        "import apache_beam as beam\n",
        "\n",
        "# Function to classify total_cost into categories: 'low', 'medium', or 'high'\n",
        "def classify_transaction(transaction):\n",
        "    total_cost = transaction['total_cost']\n",
        "\n",
        "    if total_cost > 1000:\n",
        "        transaction['classification'] = 'high'\n",
        "    elif 500 < total_cost <= 1000:\n",
        "        transaction['classification'] = 'medium'\n",
        "    else:\n",
        "        transaction['classification'] = 'low'\n",
        "\n",
        "    return transaction\n",
        "\n",
        "# Function to calculate total cost and discounted price, and then classify the transaction\n",
        "class ProcessAndClassifyTransaction(beam.DoFn):\n",
        "    def process(self, transaction):\n",
        "        # Calculate total cost\n",
        "        transaction['total_cost'] = transaction['quantity'] * transaction['price']\n",
        "\n",
        "        # Apply a discount of 10% if the total cost is greater than $500\n",
        "        if transaction['total_cost'] > 500:\n",
        "            transaction['discounted_price'] = transaction['total_cost'] * 0.9\n",
        "        else:\n",
        "            transaction['discounted_price'] = transaction['total_cost']\n",
        "\n",
        "        # Classify transaction based on total cost\n",
        "        classified_transaction = classify_transaction(transaction)\n",
        "\n",
        "        # Yield the classified transaction\n",
        "        yield classified_transaction\n",
        "\n",
        "# Define the pipeline\n",
        "def run_pipeline_with_classification():\n",
        "    with beam.Pipeline() as pipeline:\n",
        "\n",
        "        # Sample data: transactions\n",
        "        sample_data = [\n",
        "            {'transaction_id': 'T1001', 'product': 'Laptop', 'quantity': 1, 'price': 1000},\n",
        "            {'transaction_id': 'T1002', 'product': 'Phone', 'quantity': 2, 'price': 500},\n",
        "            {'transaction_id': 'T1003', 'product': 'Monitor', 'quantity': 3, 'price': 150},\n",
        "            {'transaction_id': 'T1004', 'product': 'Keyboard', 'quantity': 5, 'price': 30},\n",
        "            {'transaction_id': 'T1005', 'product': 'Mouse', 'quantity': 10, 'price': 20}\n",
        "        ]\n",
        "\n",
        "        # Step 1: Create a PCollection from the sample data\n",
        "        transactions = pipeline | 'Create transactions' >> beam.Create(sample_data)\n",
        "\n",
        "        # Step 2: Apply ParDo to process transactions and classify them\n",
        "        processed_and_classified_transactions = transactions | 'Process and Classify Transactions' >> beam.ParDo(ProcessAndClassifyTransaction())\n",
        "\n",
        "        # Step 3: Print classified transactions\n",
        "        processed_and_classified_transactions | 'Print Classified Transactions' >> beam.Map(print)\n",
        "\n",
        "# Run the pipeline\n",
        "run_pipeline_with_classification()"
      ],
      "metadata": {
        "colab": {
          "base_uri": "https://localhost:8080/"
        },
        "id": "aQExbkGgtx1f",
        "outputId": "e46c34a5-48e6-4310-cddb-466f06b0d5a1"
      },
      "execution_count": 21,
      "outputs": [
        {
          "output_type": "stream",
          "name": "stdout",
          "text": [
            "{'transaction_id': 'T1001', 'product': 'Laptop', 'quantity': 1, 'price': 1000, 'total_cost': 1000, 'discounted_price': 900.0, 'classification': 'medium'}\n",
            "{'transaction_id': 'T1002', 'product': 'Phone', 'quantity': 2, 'price': 500, 'total_cost': 1000, 'discounted_price': 900.0, 'classification': 'medium'}\n",
            "{'transaction_id': 'T1003', 'product': 'Monitor', 'quantity': 3, 'price': 150, 'total_cost': 450, 'discounted_price': 450, 'classification': 'low'}\n",
            "{'transaction_id': 'T1004', 'product': 'Keyboard', 'quantity': 5, 'price': 30, 'total_cost': 150, 'discounted_price': 150, 'classification': 'low'}\n",
            "{'transaction_id': 'T1005', 'product': 'Mouse', 'quantity': 10, 'price': 20, 'total_cost': 200, 'discounted_price': 200, 'classification': 'low'}\n"
          ]
        }
      ]
    },
    {
      "cell_type": "code",
      "source": [],
      "metadata": {
        "id": "CKRLnGQ0uvVf"
      },
      "execution_count": null,
      "outputs": []
    }
  ]
}